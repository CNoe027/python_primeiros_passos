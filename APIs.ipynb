{
 "cells": [
  {
   "cell_type": "code",
   "execution_count": 1,
   "id": "722feca4",
   "metadata": {
    "ExecuteTime": {
     "end_time": "2021-07-13T00:45:32.144566Z",
     "start_time": "2021-07-13T00:45:28.115903Z"
    }
   },
   "outputs": [
    {
     "name": "stdout",
     "output_type": "stream",
     "text": [
      "Requirement already satisfied: requests in c:\\users\\caion\\anaconda3\\lib\\site-packages (2.25.1)\n",
      "Requirement already satisfied: certifi>=2017.4.17 in c:\\users\\caion\\anaconda3\\lib\\site-packages (from requests) (2020.12.5)\n",
      "Requirement already satisfied: urllib3<1.27,>=1.21.1 in c:\\users\\caion\\anaconda3\\lib\\site-packages (from requests) (1.26.4)\n",
      "Requirement already satisfied: idna<3,>=2.5 in c:\\users\\caion\\anaconda3\\lib\\site-packages (from requests) (2.10)\n",
      "Requirement already satisfied: chardet<5,>=3.0.2 in c:\\users\\caion\\anaconda3\\lib\\site-packages (from requests) (4.0.0)\n"
     ]
    }
   ],
   "source": [
    "!pip install requests"
   ]
  },
  {
   "cell_type": "code",
   "execution_count": 3,
   "id": "b0bf9981",
   "metadata": {
    "ExecuteTime": {
     "end_time": "2021-07-13T00:46:19.927321Z",
     "start_time": "2021-07-13T00:46:19.792839Z"
    }
   },
   "outputs": [],
   "source": [
    "import requests"
   ]
  },
  {
   "cell_type": "code",
   "execution_count": 4,
   "id": "79eda8da",
   "metadata": {
    "ExecuteTime": {
     "end_time": "2021-07-13T00:48:44.149308Z",
     "start_time": "2021-07-13T00:48:43.437304Z"
    }
   },
   "outputs": [
    {
     "name": "stdout",
     "output_type": "stream",
     "text": [
      "200\n"
     ]
    }
   ],
   "source": [
    "url = \"https://api.exchangerate-api.com/v6/latest\"\n",
    "\n",
    "req = requests.get(url)\n",
    "\n",
    "print(req.status_code)"
   ]
  },
  {
   "cell_type": "code",
   "execution_count": 5,
   "id": "99673a7f",
   "metadata": {
    "ExecuteTime": {
     "end_time": "2021-07-13T00:49:25.586121Z",
     "start_time": "2021-07-13T00:49:25.578123Z"
    }
   },
   "outputs": [
    {
     "name": "stdout",
     "output_type": "stream",
     "text": [
      "{'result': 'success', 'provider': 'https://www.exchangerate-api.com', 'documentation': 'https://www.exchangerate-api.com/docs/free', 'WARNING_NEW_ENDPOINT': 'Swap *api.exchangerate-api.com* with *open.er-api.com* for better servers!', 'terms_of_use': 'https://www.exchangerate-api.com/terms', 'time_last_update_unix': 1626134551, 'time_last_update_utc': 'Tue, 13 Jul 2021 00:02:31 +0000', 'time_next_update_unix': 1626221181, 'time_next_update_utc': 'Wed, 14 Jul 2021 00:06:21 +0000', 'time_eol_unix': 0, 'base_code': 'USD', 'rates': {'USD': 1, 'AED': 3.67, 'AFN': 81.7, 'ALL': 103.24, 'AMD': 495.88, 'ANG': 1.79, 'AOA': 648.12, 'ARS': 95.96, 'AUD': 1.34, 'AWG': 1.79, 'AZN': 1.7, 'BAM': 1.65, 'BBD': 2, 'BDT': 84.73, 'BGN': 1.65, 'BHD': 0.376, 'BIF': 1969.26, 'BMD': 1, 'BND': 1.35, 'BOB': 6.88, 'BRL': 5.26, 'BSD': 1, 'BTN': 74.56, 'BWP': 10.97, 'BYN': 2.57, 'BZD': 2, 'CAD': 1.25, 'CDF': 1985.28, 'CHF': 0.915, 'CLP': 748.85, 'CNY': 6.48, 'COP': 3806.61, 'CRC': 619.72, 'CUC': 1, 'CUP': 25.75, 'CVE': 92.79, 'CZK': 21.73, 'DJF': 177.72, 'DKK': 6.28, 'DOP': 56.89, 'DZD': 134.83, 'EGP': 15.69, 'ERN': 15, 'ETB': 43.86, 'EUR': 0.842, 'FJD': 2.07, 'FKP': 0.721, 'FOK': 6.28, 'GBP': 0.721, 'GEL': 3.14, 'GGP': 0.721, 'GHS': 5.92, 'GIP': 0.721, 'GMD': 51.84, 'GNF': 9809.02, 'GTQ': 7.74, 'GYD': 208.69, 'HKD': 7.76, 'HNL': 23.78, 'HRK': 6.34, 'HTG': 93.71, 'HUF': 300.5, 'IDR': 14560.04, 'ILS': 3.29, 'IMP': 0.721, 'INR': 74.56, 'IQD': 1456.93, 'IRR': 41908.18, 'ISK': 123.35, 'JMD': 151.61, 'JOD': 0.709, 'JPY': 110.26, 'KES': 107.87, 'KGS': 84.77, 'KHR': 4067.92, 'KID': 1.34, 'KMF': 414, 'KRW': 1147.66, 'KWD': 0.3, 'KYD': 0.833, 'KZT': 428.24, 'LAK': 9487.67, 'LBP': 1507.5, 'LKR': 199.04, 'LRD': 171.56, 'LSL': 14.39, 'LYD': 4.5, 'MAD': 8.92, 'MDL': 18.05, 'MGA': 3766.63, 'MKD': 51.94, 'MMK': 1645.66, 'MNT': 2841.18, 'MOP': 8, 'MRU': 36.1, 'MUR': 42.47, 'MVR': 15.41, 'MWK': 807, 'MXN': 19.89, 'MYR': 4.19, 'MZN': 63.41, 'NAD': 14.39, 'NGN': 425.64, 'NIO': 35.03, 'NOK': 8.7, 'NPR': 119.3, 'NZD': 1.43, 'OMR': 0.384, 'PAB': 1, 'PEN': 3.97, 'PGK': 3.51, 'PHP': 50.42, 'PKR': 159.4, 'PLN': 3.84, 'PYG': 6795.79, 'QAR': 3.64, 'RON': 4.15, 'RSD': 99.21, 'RUB': 74.49, 'RWF': 1005.14, 'SAR': 3.75, 'SBD': 7.94, 'SCR': 16.18, 'SDG': 448.91, 'SEK': 8.59, 'SGD': 1.35, 'SHP': 0.721, 'SLL': 10257.29, 'SOS': 577.61, 'SRD': 20.98, 'SSP': 177.61, 'STN': 20.62, 'SYP': 1263.89, 'SZL': 14.39, 'THB': 32.67, 'TJS': 11.3, 'TMT': 3.5, 'TND': 2.76, 'TOP': 2.24, 'TRY': 8.64, 'TTD': 6.77, 'TVD': 1.34, 'TWD': 28, 'TZS': 2315.8, 'UAH': 27.25, 'UGX': 3539.84, 'UYU': 43.92, 'UZS': 10550.64, 'VES': 3291083.87, 'VND': 22961.54, 'VUV': 110.61, 'WST': 2.55, 'XAF': 552, 'XCD': 2.7, 'XDR': 0.702, 'XOF': 552, 'XPF': 100.42, 'YER': 250.31, 'ZAR': 14.39, 'ZMW': 22.64}}\n"
     ]
    }
   ],
   "source": [
    "dados = req.json()\n",
    "\n",
    "print(dados)"
   ]
  },
  {
   "cell_type": "code",
   "execution_count": 7,
   "id": "c44605de",
   "metadata": {
    "ExecuteTime": {
     "end_time": "2021-07-13T00:54:46.510779Z",
     "start_time": "2021-07-13T00:54:44.793037Z"
    }
   },
   "outputs": [
    {
     "name": "stdout",
     "output_type": "stream",
     "text": [
      "Informe o valor em R$ a ser convertido\n",
      "100\n",
      "R$100.0 em dólar valem US$ 19.01\n"
     ]
    }
   ],
   "source": [
    "valores_reais = float(input(\"Informe o valor em R$ a ser convertido\\n\"))\n",
    "cotacao = dados[\"rates\"][\"BRL\"]\n",
    "print(f\"R${valores_reais} em dólar valem US$ {(valores_reais / cotacao):.2f}\")"
   ]
  },
  {
   "cell_type": "code",
   "execution_count": 11,
   "id": "d5af2c4d",
   "metadata": {
    "ExecuteTime": {
     "end_time": "2021-07-13T01:13:13.567021Z",
     "start_time": "2021-07-13T01:13:12.913622Z"
    }
   },
   "outputs": [
    {
     "name": "stdout",
     "output_type": "stream",
     "text": [
      "200\n"
     ]
    }
   ],
   "source": [
    "url1 = \"https://www.alphavantage.co/query?\"\n",
    "\n",
    "req_1 = requests.get(url1)\n",
    "\n",
    "print(req_1.status_code)"
   ]
  },
  {
   "cell_type": "code",
   "execution_count": 12,
   "id": "062dad70",
   "metadata": {
    "ExecuteTime": {
     "end_time": "2021-07-13T01:13:15.261614Z",
     "start_time": "2021-07-13T01:13:15.258618Z"
    }
   },
   "outputs": [
    {
     "name": "stdout",
     "output_type": "stream",
     "text": [
      "{'Error Message': 'the parameter apikey is invalid or missing. Please claim your free API key on (https://www.alphavantage.co/support/#api-key). It should take less than 20 seconds.'}\n"
     ]
    }
   ],
   "source": [
    "dados1 = req_1.json()\n",
    "print(dados1)"
   ]
  },
  {
   "cell_type": "code",
   "execution_count": null,
   "id": "982e354e",
   "metadata": {},
   "outputs": [],
   "source": []
  }
 ],
 "metadata": {
  "kernelspec": {
   "display_name": "Python 3",
   "language": "python",
   "name": "python3"
  },
  "language_info": {
   "codemirror_mode": {
    "name": "ipython",
    "version": 3
   },
   "file_extension": ".py",
   "mimetype": "text/x-python",
   "name": "python",
   "nbconvert_exporter": "python",
   "pygments_lexer": "ipython3",
   "version": "3.8.8"
  },
  "varInspector": {
   "cols": {
    "lenName": 16,
    "lenType": 16,
    "lenVar": 40
   },
   "kernels_config": {
    "python": {
     "delete_cmd_postfix": "",
     "delete_cmd_prefix": "del ",
     "library": "var_list.py",
     "varRefreshCmd": "print(var_dic_list())"
    },
    "r": {
     "delete_cmd_postfix": ") ",
     "delete_cmd_prefix": "rm(",
     "library": "var_list.r",
     "varRefreshCmd": "cat(var_dic_list()) "
    }
   },
   "types_to_exclude": [
    "module",
    "function",
    "builtin_function_or_method",
    "instance",
    "_Feature"
   ],
   "window_display": false
  }
 },
 "nbformat": 4,
 "nbformat_minor": 5
}
