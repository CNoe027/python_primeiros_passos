{
 "cells": [
  {
   "cell_type": "code",
   "execution_count": 7,
   "id": "65174000",
   "metadata": {},
   "outputs": [
    {
     "name": "stdout",
     "output_type": "stream",
     "text": [
      "1 Item limpo\n",
      "2 Itens Limpos\n",
      "3 Itens Limpos\n",
      "4 Itens Limpos\n",
      "5 Itens Limpos\n",
      "6 Itens Limpos\n",
      "7 Itens Limpos\n",
      "8 Itens Limpos\n",
      "9 Itens Limpos\n",
      "10 Itens Limpos\n",
      "Fim da repetição do bloco while\n"
     ]
    }
   ],
   "source": [
    "contador = 0\n",
    "\n",
    "while contador < 10:\n",
    "    contador = contador + 1\n",
    "    if contador == 1:\n",
    "        print(contador, \"Item limpo\")\n",
    "    else:\n",
    "        print(contador, \"Itens Limpos\")\n",
    "        \n",
    "print(\"Fim da repetição do bloco while\")"
   ]
  },
  {
   "cell_type": "code",
   "execution_count": 9,
   "id": "b9927a58",
   "metadata": {},
   "outputs": [
    {
     "name": "stdout",
     "output_type": "stream",
     "text": [
      "1 Item limpo\n",
      "2 Itens Limpos\n",
      "3 Itens Limpos\n",
      "4 Itens Limpos\n",
      "5 Itens Limpos\n",
      "6 Itens Limpos\n",
      "7 Itens Limpos\n",
      "8 Itens Limpos\n",
      "9 Itens Limpos\n",
      "10 Itens Limpos\n",
      "Fim da repetição do bloco while\n"
     ]
    }
   ],
   "source": [
    "contador = 0\n",
    "\n",
    "while True:\n",
    "    if contador < 10:\n",
    "        contador = contador + 1\n",
    "        if contador == 1:\n",
    "            print(contador, \"Item limpo\")\n",
    "        else:\n",
    "            print(contador, \"Itens Limpos\")\n",
    "    else:\n",
    "        break\n",
    "        \n",
    "print(\"Fim da repetição do bloco while\")"
   ]
  },
  {
   "cell_type": "code",
   "execution_count": 11,
   "id": "c516ecd9",
   "metadata": {},
   "outputs": [
    {
     "name": "stdout",
     "output_type": "stream",
     "text": [
      "Digite a sua senha: caio\n",
      "Senha inválida. Tente novamente!asfo\n",
      "Senha inválida. Tente novamente!kgo\n",
      "Senha inválida. Tente novamente!Letscode\n",
      "Senha inválida. Tente novamente!LetsCode\n",
      "Acesso Permitido!\n"
     ]
    }
   ],
   "source": [
    "texto = input(\"Digite a sua senha: \")\n",
    "\n",
    "while texto != \"LetsCode\":\n",
    "    texto = input(\"Senha inválida. Tente novamente!\")\n",
    "                  \n",
    "print(\"Acesso Permitido!\")"
   ]
  },
  {
   "cell_type": "code",
   "execution_count": 12,
   "id": "72981651",
   "metadata": {
    "scrolled": true
   },
   "outputs": [
    {
     "name": "stdout",
     "output_type": "stream",
     "text": [
      "2 Itens Limpos\n",
      "3 Itens Limpos\n",
      "4 Itens Limpos\n",
      "5 Itens Limpos\n",
      "6 Itens Limpos\n",
      "7 Itens Limpos\n",
      "8 Itens Limpos\n",
      "9 Itens Limpos\n",
      "10 Itens Limpos\n",
      "Fim da repetição do bloco while\n"
     ]
    }
   ],
   "source": [
    "contador = 0\n",
    "\n",
    "while contador < 10:\n",
    "    contador = contador + 1\n",
    "    if contador == 1:\n",
    "        continue\n",
    "    print(contador, \"Itens Limpos\")\n",
    "        \n",
    "print(\"Fim da repetição do bloco while\")"
   ]
  }
 ],
 "metadata": {
  "kernelspec": {
   "display_name": "Python 3",
   "language": "python",
   "name": "python3"
  },
  "language_info": {
   "codemirror_mode": {
    "name": "ipython",
    "version": 3
   },
   "file_extension": ".py",
   "mimetype": "text/x-python",
   "name": "python",
   "nbconvert_exporter": "python",
   "pygments_lexer": "ipython3",
   "version": "3.8.8"
  }
 },
 "nbformat": 4,
 "nbformat_minor": 5
}
