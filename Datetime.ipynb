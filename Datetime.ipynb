{
 "cells": [
  {
   "cell_type": "code",
   "execution_count": 3,
   "id": "0da09499",
   "metadata": {
    "ExecuteTime": {
     "end_time": "2021-07-14T01:17:10.913949Z",
     "start_time": "2021-07-14T01:17:10.898320Z"
    }
   },
   "outputs": [
    {
     "name": "stdout",
     "output_type": "stream",
     "text": [
      "2021-07-13 2001-09-11\n"
     ]
    }
   ],
   "source": [
    "import datetime\n",
    "\n",
    "d = datetime.date(2001, 9, 11)\n",
    "tday = datetime.date.today()\n",
    "print(tday, d)"
   ]
  },
  {
   "cell_type": "code",
   "execution_count": 22,
   "id": "55605377",
   "metadata": {
    "ExecuteTime": {
     "end_time": "2021-07-14T01:22:41.885287Z",
     "start_time": "2021-07-14T01:22:41.868282Z"
    }
   },
   "outputs": [
    {
     "name": "stdout",
     "output_type": "stream",
     "text": [
      "2021-07-13\n"
     ]
    }
   ],
   "source": [
    "datetime.timedelta(days=0, seconds=0, microseconds=0, milliseconds=0, minutes=0, hours=0, weeks=0)\n",
    "\n",
    "tdelta = datetime.timedelta(hours=12)\n",
    "print(tday + tdelta)"
   ]
  },
  {
   "cell_type": "code",
   "execution_count": 21,
   "id": "2733fb0c",
   "metadata": {
    "ExecuteTime": {
     "end_time": "2021-07-14T01:22:40.189066Z",
     "start_time": "2021-07-14T01:22:40.180066Z"
    }
   },
   "outputs": [
    {
     "name": "stdout",
     "output_type": "stream",
     "text": [
      "-1753\n"
     ]
    }
   ],
   "source": [
    "bday = datetime.date(2016, 9, 24)\n",
    "till_bday = bday - tday\n",
    "print(till_bday.days)"
   ]
  },
  {
   "cell_type": "code",
   "execution_count": 23,
   "id": "3351fbfd",
   "metadata": {
    "ExecuteTime": {
     "end_time": "2021-07-14T01:23:18.868025Z",
     "start_time": "2021-07-14T01:23:18.860027Z"
    }
   },
   "outputs": [
    {
     "name": "stdout",
     "output_type": "stream",
     "text": [
      "July 13, 2021\n"
     ]
    }
   ],
   "source": [
    "# strftime - Datetime para String\n",
    "\n",
    "dt_agora = datetime.datetime.now()\n",
    "print(dt_agora.strftime('%B %d, %Y'))"
   ]
  },
  {
   "cell_type": "code",
   "execution_count": 26,
   "id": "95e4b506",
   "metadata": {
    "ExecuteTime": {
     "end_time": "2021-07-14T01:26:38.776248Z",
     "start_time": "2021-07-14T01:26:38.764248Z"
    }
   },
   "outputs": [
    {
     "name": "stdout",
     "output_type": "stream",
     "text": [
      "2016-07-24 00:00:00\n"
     ]
    }
   ],
   "source": [
    "# strptime - String para Datetime\n",
    "\n",
    "dt_str = 'July 24, 2016'\n",
    "dt = datetime.datetime.strptime(dt_str, '%B %d, %Y')\n",
    "print(dt)"
   ]
  },
  {
   "cell_type": "code",
   "execution_count": null,
   "id": "c93c3799",
   "metadata": {},
   "outputs": [],
   "source": [
    "# strftime - Datetime para String\n",
    "# strptime - String para Datetime"
   ]
  }
 ],
 "metadata": {
  "kernelspec": {
   "display_name": "Python 3",
   "language": "python",
   "name": "python3"
  },
  "language_info": {
   "codemirror_mode": {
    "name": "ipython",
    "version": 3
   },
   "file_extension": ".py",
   "mimetype": "text/x-python",
   "name": "python",
   "nbconvert_exporter": "python",
   "pygments_lexer": "ipython3",
   "version": "3.8.8"
  },
  "varInspector": {
   "cols": {
    "lenName": 16,
    "lenType": 16,
    "lenVar": 40
   },
   "kernels_config": {
    "python": {
     "delete_cmd_postfix": "",
     "delete_cmd_prefix": "del ",
     "library": "var_list.py",
     "varRefreshCmd": "print(var_dic_list())"
    },
    "r": {
     "delete_cmd_postfix": ") ",
     "delete_cmd_prefix": "rm(",
     "library": "var_list.r",
     "varRefreshCmd": "cat(var_dic_list()) "
    }
   },
   "types_to_exclude": [
    "module",
    "function",
    "builtin_function_or_method",
    "instance",
    "_Feature"
   ],
   "window_display": false
  }
 },
 "nbformat": 4,
 "nbformat_minor": 5
}
