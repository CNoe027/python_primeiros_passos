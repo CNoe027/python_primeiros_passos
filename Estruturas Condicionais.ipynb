{
 "cells": [
  {
   "cell_type": "code",
   "execution_count": 2,
   "id": "2c32c67e",
   "metadata": {},
   "outputs": [
    {
     "name": "stdout",
     "output_type": "stream",
     "text": [
      "Qual o valor da corrida?35.00\n",
      "Pegue o ônibus\n"
     ]
    }
   ],
   "source": [
    "valor_passagem = 4.30\n",
    "\n",
    "valor_corrida = input(\"Qual o valor da corrida?\")\n",
    "\n",
    "if float(valor_corrida) <= valor_passagem * 5:\n",
    "    print(\"Pegue a corrida\")\n",
    "if float(valor_corrida) > valor_passagem * 5:\n",
    "    print(\"Pegue o ônibus\")"
   ]
  },
  {
   "cell_type": "code",
   "execution_count": 4,
   "id": "66d3d160",
   "metadata": {},
   "outputs": [
    {
     "name": "stdout",
     "output_type": "stream",
     "text": [
      "Qual o valor da corrida?17\n",
      "Pegue a corrida\n"
     ]
    }
   ],
   "source": [
    "valor_passagem = 4.30\n",
    "\n",
    "valor_corrida = input(\"Qual o valor da corrida?\")\n",
    "\n",
    "if float(valor_corrida) <= valor_passagem * 5:\n",
    "    print(\"Pegue a corrida\")\n",
    "else:\n",
    "    print(\"Pegue o ônibus\")"
   ]
  },
  {
   "cell_type": "code",
   "execution_count": 7,
   "id": "9489d72c",
   "metadata": {},
   "outputs": [
    {
     "name": "stdout",
     "output_type": "stream",
     "text": [
      "Qual o valor da corrida?35\n",
      "Pegue o ônibus\n"
     ]
    }
   ],
   "source": [
    "valor_passagem = 4.30\n",
    "\n",
    "valor_corrida = input(\"Qual o valor da corrida?\")\n",
    "\n",
    "if float(valor_corrida) <= valor_passagem * 5:\n",
    "    print(\"Pegue a corrida\")\n",
    "else:\n",
    "    if float(valor_corrida) <= valor_passagem * 6:\n",
    "        print(\"Aguarde um momento, o valor pode abaixar\")\n",
    "    else:\n",
    "        print(\"Pegue o ônibus\")"
   ]
  },
  {
   "cell_type": "code",
   "execution_count": null,
   "id": "4e7104d6",
   "metadata": {},
   "outputs": [],
   "source": [
    "valor_passagem = 4.30\n",
    "\n",
    "valor_corrida = input(\"Qual o valor da corrida?\")\n",
    "\n",
    "if float(valor_corrida) <= valor_passagem * 5:\n",
    "    print(\"Pegue a corrida\")\n",
    "elif float(valor_corrida) <= valor_passagem * 6:\n",
    "    print(\"Aguarde um momento, o valor pode abaixar\")\n",
    "else:\n",
    "    print(\"Pegue o ônibus\")"
   ]
  }
 ],
 "metadata": {
  "kernelspec": {
   "display_name": "Python 3",
   "language": "python",
   "name": "python3"
  },
  "language_info": {
   "codemirror_mode": {
    "name": "ipython",
    "version": 3
   },
   "file_extension": ".py",
   "mimetype": "text/x-python",
   "name": "python",
   "nbconvert_exporter": "python",
   "pygments_lexer": "ipython3",
   "version": "3.8.8"
  }
 },
 "nbformat": 4,
 "nbformat_minor": 5
}
