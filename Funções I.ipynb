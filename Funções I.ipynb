{
 "cells": [
  {
   "cell_type": "code",
   "execution_count": 1,
   "id": "ef7d5176",
   "metadata": {},
   "outputs": [],
   "source": [
    "def hello():\n",
    "    print(\"Olá, mundo!\")"
   ]
  },
  {
   "cell_type": "code",
   "execution_count": 2,
   "id": "5b622329",
   "metadata": {},
   "outputs": [
    {
     "name": "stdout",
     "output_type": "stream",
     "text": [
      "Olá, mundo!\n"
     ]
    }
   ],
   "source": [
    "hello()"
   ]
  },
  {
   "cell_type": "code",
   "execution_count": 3,
   "id": "7e213ffc",
   "metadata": {},
   "outputs": [],
   "source": [
    "def calcula_media(valor1, valor2, valor3):\n",
    "    soma = valor1 + valor2 + valor3\n",
    "    media = soma / 3\n",
    "    return media"
   ]
  },
  {
   "cell_type": "code",
   "execution_count": 8,
   "id": "1e7d97b4",
   "metadata": {},
   "outputs": [
    {
     "name": "stdout",
     "output_type": "stream",
     "text": [
      "9.0\n"
     ]
    }
   ],
   "source": [
    "resultado = calcula_media(9, 10, 8)\n",
    "print(resultado)"
   ]
  },
  {
   "cell_type": "code",
   "execution_count": 9,
   "id": "2b88ec74",
   "metadata": {},
   "outputs": [
    {
     "name": "stdout",
     "output_type": "stream",
     "text": [
      "9.333333333333334\n"
     ]
    }
   ],
   "source": [
    "resultado2 = calcula_media(valor1=9, valor2=10, valor3=9)\n",
    "print(resultado2)"
   ]
  },
  {
   "cell_type": "code",
   "execution_count": 12,
   "id": "be15272e",
   "metadata": {},
   "outputs": [
    {
     "name": "stdout",
     "output_type": "stream",
     "text": [
      "Olá , Pietro\n"
     ]
    }
   ],
   "source": [
    "print(\"Olá\", end=\" \")\n",
    "print(\", Pietro\")"
   ]
  },
  {
   "cell_type": "code",
   "execution_count": 15,
   "id": "11c49dc7",
   "metadata": {},
   "outputs": [],
   "source": [
    "def calcula_media(valor1=0, valor2=0, valor3=0):\n",
    "    soma = valor1 + valor2 + valor3\n",
    "    media = soma / 3\n",
    "    return media"
   ]
  },
  {
   "cell_type": "code",
   "execution_count": 17,
   "id": "0bd7bbf8",
   "metadata": {},
   "outputs": [
    {
     "name": "stdout",
     "output_type": "stream",
     "text": [
      "0.0\n"
     ]
    }
   ],
   "source": [
    "resultado = calcula_media()\n",
    "print(resultado)"
   ]
  },
  {
   "cell_type": "code",
   "execution_count": 18,
   "id": "ce4f86b4",
   "metadata": {},
   "outputs": [
    {
     "name": "stdout",
     "output_type": "stream",
     "text": [
      "A soma dos elementos da lista vale:  15\n",
      "Que soma pequena!\n"
     ]
    }
   ],
   "source": [
    "def somatorio(lista):\n",
    "    soma = 0\n",
    "    for item in lista:\n",
    "        soma = soma + item\n",
    "    return soma\n",
    "\n",
    "numeros = [1, 2, 3, 4, 5]\n",
    "soma_dos_numeros = somatorio(numeros)\n",
    "print(\"A soma dos elementos da lista vale: \", soma_dos_numeros)\n",
    "\n",
    "if somatorio(numeros) > 50:\n",
    "    print(\"Que soma grande!\")\n",
    "else:\n",
    "    print(\"Que soma pequena!\")"
   ]
  },
  {
   "cell_type": "code",
   "execution_count": null,
   "id": "5f2a1637",
   "metadata": {},
   "outputs": [],
   "source": []
  }
 ],
 "metadata": {
  "kernelspec": {
   "display_name": "Python 3",
   "language": "python",
   "name": "python3"
  },
  "language_info": {
   "codemirror_mode": {
    "name": "ipython",
    "version": 3
   },
   "file_extension": ".py",
   "mimetype": "text/x-python",
   "name": "python",
   "nbconvert_exporter": "python",
   "pygments_lexer": "ipython3",
   "version": "3.8.8"
  }
 },
 "nbformat": 4,
 "nbformat_minor": 5
}
