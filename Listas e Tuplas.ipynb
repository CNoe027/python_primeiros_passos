{
 "cells": [
  {
   "cell_type": "code",
   "execution_count": 3,
   "id": "376523af",
   "metadata": {},
   "outputs": [
    {
     "name": "stdout",
     "output_type": "stream",
     "text": [
      "['Brasil', 'Argentina', 'China', 'Canadá', 'Japão']\n"
     ]
    }
   ],
   "source": [
    "nomes_paises = [\"Brasil\", \"Argentina\", \"China\", \"Canadá\", \"Japão\"]\n",
    "print(nomes_paises)"
   ]
  },
  {
   "cell_type": "code",
   "execution_count": 4,
   "id": "bc044c8c",
   "metadata": {},
   "outputs": [
    {
     "name": "stdout",
     "output_type": "stream",
     "text": [
      "Tamanho da lista:  5\n"
     ]
    }
   ],
   "source": [
    "print(\"Tamanho da lista: \", len(nomes_paises))"
   ]
  },
  {
   "cell_type": "code",
   "execution_count": 6,
   "id": "2799de78",
   "metadata": {},
   "outputs": [
    {
     "name": "stdout",
     "output_type": "stream",
     "text": [
      "País: Japão\n"
     ]
    }
   ],
   "source": [
    "print(\"País:\", nomes_paises[4])"
   ]
  },
  {
   "cell_type": "code",
   "execution_count": 9,
   "id": "58f9449d",
   "metadata": {},
   "outputs": [
    {
     "name": "stdout",
     "output_type": "stream",
     "text": [
      "País: Japão\n"
     ]
    }
   ],
   "source": [
    "print(\"País:\", nomes_paises[-1])"
   ]
  },
  {
   "cell_type": "code",
   "execution_count": 10,
   "id": "6861318e",
   "metadata": {},
   "outputs": [
    {
     "name": "stdout",
     "output_type": "stream",
     "text": [
      "País: Colômbia\n",
      "['Brasil', 'Argentina', 'China', 'Canadá', 'Colômbia']\n"
     ]
    }
   ],
   "source": [
    "nomes_paises[4] = \"Colômbia\"\n",
    "print(\"País:\", nomes_paises[4])\n",
    "print(nomes_paises)"
   ]
  },
  {
   "cell_type": "code",
   "execution_count": 11,
   "id": "8be7f7c2",
   "metadata": {},
   "outputs": [
    {
     "ename": "IndexError",
     "evalue": "list assignment index out of range",
     "output_type": "error",
     "traceback": [
      "\u001b[1;31m---------------------------------------------------------------------------\u001b[0m",
      "\u001b[1;31mIndexError\u001b[0m                                Traceback (most recent call last)",
      "\u001b[1;32m<ipython-input-11-0b3ae02d8a48>\u001b[0m in \u001b[0;36m<module>\u001b[1;34m\u001b[0m\n\u001b[1;32m----> 1\u001b[1;33m \u001b[0mnomes_paises\u001b[0m\u001b[1;33m[\u001b[0m\u001b[1;36m5\u001b[0m\u001b[1;33m]\u001b[0m \u001b[1;33m=\u001b[0m \u001b[1;34m\"Chile\"\u001b[0m\u001b[1;33m\u001b[0m\u001b[1;33m\u001b[0m\u001b[0m\n\u001b[0m",
      "\u001b[1;31mIndexError\u001b[0m: list assignment index out of range"
     ]
    }
   ],
   "source": [
    "nomes_paises[5] = \"Chile\""
   ]
  },
  {
   "cell_type": "code",
   "execution_count": 14,
   "id": "bb3fbf37",
   "metadata": {},
   "outputs": [
    {
     "name": "stdout",
     "output_type": "stream",
     "text": [
      "['Argentina', 'China']\n"
     ]
    }
   ],
   "source": [
    "print(nomes_paises[1:3])"
   ]
  },
  {
   "cell_type": "code",
   "execution_count": 15,
   "id": "64e9d427",
   "metadata": {},
   "outputs": [
    {
     "name": "stdout",
     "output_type": "stream",
     "text": [
      "['Argentina', 'China', 'Canadá']\n"
     ]
    }
   ],
   "source": [
    "print(nomes_paises[1:-1])"
   ]
  },
  {
   "cell_type": "code",
   "execution_count": 16,
   "id": "5261f5c6",
   "metadata": {},
   "outputs": [
    {
     "name": "stdout",
     "output_type": "stream",
     "text": [
      "['China', 'Canadá', 'Colômbia']\n"
     ]
    }
   ],
   "source": [
    "print(nomes_paises[2:])"
   ]
  },
  {
   "cell_type": "code",
   "execution_count": 17,
   "id": "20b6fb57",
   "metadata": {},
   "outputs": [
    {
     "name": "stdout",
     "output_type": "stream",
     "text": [
      "['Brasil', 'Argentina', 'China']\n"
     ]
    }
   ],
   "source": [
    "print(nomes_paises[:3])"
   ]
  },
  {
   "cell_type": "code",
   "execution_count": 18,
   "id": "2fd2747b",
   "metadata": {},
   "outputs": [
    {
     "name": "stdout",
     "output_type": "stream",
     "text": [
      "['Brasil', 'Argentina', 'China', 'Canadá', 'Colômbia']\n"
     ]
    }
   ],
   "source": [
    "print(nomes_paises[:])"
   ]
  },
  {
   "cell_type": "code",
   "execution_count": 19,
   "id": "66b6f7df",
   "metadata": {},
   "outputs": [
    {
     "name": "stdout",
     "output_type": "stream",
     "text": [
      "['Brasil', 'China', 'Colômbia']\n"
     ]
    }
   ],
   "source": [
    "print(nomes_paises[::2])"
   ]
  },
  {
   "cell_type": "code",
   "execution_count": 20,
   "id": "5de20ceb",
   "metadata": {},
   "outputs": [
    {
     "name": "stdout",
     "output_type": "stream",
     "text": [
      "['Colômbia', 'Canadá', 'China', 'Argentina', 'Brasil']\n"
     ]
    }
   ],
   "source": [
    "print(nomes_paises[::-1])"
   ]
  },
  {
   "cell_type": "code",
   "execution_count": 21,
   "id": "5475bbb7",
   "metadata": {},
   "outputs": [
    {
     "name": "stdout",
     "output_type": "stream",
     "text": [
      "True\n"
     ]
    }
   ],
   "source": [
    "print(\"Brasil\" in nomes_paises)"
   ]
  },
  {
   "cell_type": "code",
   "execution_count": 24,
   "id": "e6a62603",
   "metadata": {
    "scrolled": true
   },
   "outputs": [
    {
     "name": "stdout",
     "output_type": "stream",
     "text": [
      "False\n"
     ]
    }
   ],
   "source": [
    "print(\"Canadá\" not in nomes_paises)"
   ]
  },
  {
   "cell_type": "code",
   "execution_count": 2,
   "id": "7f38f9f7",
   "metadata": {},
   "outputs": [],
   "source": [
    "lista_capitais = []"
   ]
  },
  {
   "cell_type": "code",
   "execution_count": 3,
   "id": "ab4f9cd0",
   "metadata": {
    "scrolled": true
   },
   "outputs": [
    {
     "name": "stdout",
     "output_type": "stream",
     "text": [
      "['Brasília', 'Buenos Aires', 'Pequim', 'Bogotá']\n"
     ]
    }
   ],
   "source": [
    "lista_capitais.append(\"Brasília\")\n",
    "lista_capitais.append(\"Buenos Aires\")\n",
    "lista_capitais.append(\"Pequim\")\n",
    "lista_capitais.append(\"Bogotá\")\n",
    "\n",
    "print(lista_capitais)"
   ]
  },
  {
   "cell_type": "code",
   "execution_count": 4,
   "id": "4b4c6130",
   "metadata": {},
   "outputs": [
    {
     "name": "stdout",
     "output_type": "stream",
     "text": [
      "['Brasília', 'Buenos Aires', 'Paris', 'Pequim', 'Bogotá']\n"
     ]
    }
   ],
   "source": [
    "lista_capitais.insert(2, \"Paris\")\n",
    "print(lista_capitais)"
   ]
  },
  {
   "cell_type": "code",
   "execution_count": 5,
   "id": "520a4c5f",
   "metadata": {},
   "outputs": [
    {
     "name": "stdout",
     "output_type": "stream",
     "text": [
      "['Brasília', 'Paris', 'Pequim', 'Bogotá']\n"
     ]
    }
   ],
   "source": [
    "lista_capitais.remove(\"Buenos Aires\")\n",
    "print(lista_capitais)"
   ]
  },
  {
   "cell_type": "code",
   "execution_count": 6,
   "id": "a489b0d2",
   "metadata": {},
   "outputs": [
    {
     "name": "stdout",
     "output_type": "stream",
     "text": [
      "['Brasília', 'Paris', 'Bogotá'] Pequim\n"
     ]
    }
   ],
   "source": [
    "removido = lista_capitais.pop(2)\n",
    "print(lista_capitais, removido)"
   ]
  },
  {
   "cell_type": "code",
   "execution_count": 9,
   "id": "eda17fd0",
   "metadata": {},
   "outputs": [
    {
     "name": "stdout",
     "output_type": "stream",
     "text": [
      "('Basil', 'Argentina', 'China', 'Canadá', 'Japão') <class 'tuple'>\n"
     ]
    }
   ],
   "source": [
    "nomes_paises = (\"Basil\", \"Argentina\", \"China\", \"Canadá\", \"Japão\")\n",
    "print(nomes_paises, type(nomes_paises))"
   ]
  },
  {
   "cell_type": "code",
   "execution_count": 12,
   "id": "1e987239",
   "metadata": {},
   "outputs": [
    {
     "name": "stdout",
     "output_type": "stream",
     "text": [
      "('Basil', 'Argentina', 'China', 'Canadá', 'Japão') <class 'tuple'>\n"
     ]
    }
   ],
   "source": [
    "nomes_paises = \"Basil\", \"Argentina\", \"China\", \"Canadá\", \"Japão\"\n",
    "print(nomes_paises, type(nomes_paises))"
   ]
  },
  {
   "cell_type": "code",
   "execution_count": 14,
   "id": "b2b46f00",
   "metadata": {},
   "outputs": [
    {
     "name": "stdout",
     "output_type": "stream",
     "text": [
      "('São Paulo',) <class 'tuple'>\n"
     ]
    }
   ],
   "source": [
    "nome_estado = \"São Paulo\",\n",
    "print(nome_estado, type(nome_estado))"
   ]
  },
  {
   "cell_type": "code",
   "execution_count": 15,
   "id": "699cec98",
   "metadata": {},
   "outputs": [
    {
     "data": {
      "text/plain": [
       "5"
      ]
     },
     "execution_count": 15,
     "metadata": {},
     "output_type": "execute_result"
    }
   ],
   "source": [
    "len(nomes_paises)"
   ]
  },
  {
   "cell_type": "code",
   "execution_count": 16,
   "id": "a1fafbba",
   "metadata": {},
   "outputs": [
    {
     "data": {
      "text/plain": [
       "'Basil'"
      ]
     },
     "execution_count": 16,
     "metadata": {},
     "output_type": "execute_result"
    }
   ],
   "source": [
    "nomes_paises[0]"
   ]
  },
  {
   "cell_type": "code",
   "execution_count": 17,
   "id": "ab56b0df",
   "metadata": {},
   "outputs": [
    {
     "name": "stdout",
     "output_type": "stream",
     "text": [
      "Basil China Japão\n"
     ]
    }
   ],
   "source": [
    "b, a, c, ca, j = nomes_paises\n",
    "print(b, c, j)"
   ]
  },
  {
   "cell_type": "code",
   "execution_count": 18,
   "id": "17d35dbb",
   "metadata": {},
   "outputs": [
    {
     "name": "stdout",
     "output_type": "stream",
     "text": [
      "Basil Argentina China Canadá Japão\n"
     ]
    }
   ],
   "source": [
    "print(*nomes_paises)"
   ]
  },
  {
   "cell_type": "code",
   "execution_count": 19,
   "id": "09d3e528",
   "metadata": {},
   "outputs": [
    {
     "name": "stdout",
     "output_type": "stream",
     "text": [
      "['Ronaldo', 'Rivaldo', 'Ronaldo', 'Adriano']\n",
      "Quantidade de Ronaldos:  2\n"
     ]
    }
   ],
   "source": [
    "jogadores = ['Ronaldo', 'Rivaldo', 'Ronaldo', 'Adriano']\n",
    "ronaldos = jogadores.count('Ronaldo')\n",
    "print(jogadores)\n",
    "print('Quantidade de Ronaldos: ', ronaldos)"
   ]
  },
  {
   "cell_type": "code",
   "execution_count": 20,
   "id": "79dbf125",
   "metadata": {},
   "outputs": [
    {
     "name": "stdout",
     "output_type": "stream",
     "text": [
      "Rivaldo está na posição  1\n"
     ]
    }
   ],
   "source": [
    "rivaldo = jogadores.index('Rivaldo')\n",
    "print(\"Rivaldo está na posição \", rivaldo)"
   ]
  },
  {
   "cell_type": "code",
   "execution_count": 21,
   "id": "69f49119",
   "metadata": {},
   "outputs": [
    {
     "name": "stdout",
     "output_type": "stream",
     "text": [
      "jogadores em ordem alfabética:  ['Adriano', 'Rivaldo', 'Ronaldo', 'Ronaldo']\n"
     ]
    }
   ],
   "source": [
    "jogadores.sort()\n",
    "print(\"jogadores em ordem alfabética: \", jogadores)"
   ]
  },
  {
   "cell_type": "code",
   "execution_count": 22,
   "id": "c7ad2aa3",
   "metadata": {},
   "outputs": [
    {
     "name": "stdout",
     "output_type": "stream",
     "text": [
      "[3, 1, 4, 1, 5, 9, 2, 6, 5]\n",
      "Maior =  9 e menor =  1\n"
     ]
    }
   ],
   "source": [
    "digitos = [3, 1, 4, 1, 5, 9, 2, 6, 5]\n",
    "maior = max(digitos)\n",
    "menor = min(digitos)\n",
    "print(digitos)\n",
    "print(\"Maior = \", maior, \"e menor = \", menor)"
   ]
  },
  {
   "cell_type": "code",
   "execution_count": 24,
   "id": "cd2e7153",
   "metadata": {},
   "outputs": [
    {
     "name": "stdout",
     "output_type": "stream",
     "text": [
      "Deseja adicionar um animal à lista (s/n)? s\n",
      "Digite o nome do animal: Cavalo\n",
      "Deseja adicionar um animal à lista (s/n)? S\n",
      "Digite o nome do animal: Cabra\n",
      "Deseja adicionar um animal à lista (s/n)? s\n",
      "Digite o nome do animal: Cachorro\n",
      "Deseja adicionar um animal à lista (s/n)? n\n",
      "['Cavalo', 'Cabra', 'Cachorro']\n"
     ]
    }
   ],
   "source": [
    "animais = []\n",
    "resposta = 's'\n",
    "while resposta == 's' or resposta == 'S':\n",
    "    resposta = input('Deseja adicionar um animal à lista (s/n)? ')\n",
    "    if (resposta == 's' or resposta == 'S'):\n",
    "        animal = input('Digite o nome do animal: ')\n",
    "        animais.append(animal) # adiciona o novo animal à lista\n",
    "print(animais)"
   ]
  },
  {
   "cell_type": "code",
   "execution_count": 25,
   "id": "bfdd856b",
   "metadata": {},
   "outputs": [
    {
     "name": "stdout",
     "output_type": "stream",
     "text": [
      "7\n",
      "<class 'tuple'>\n",
      "(3, 1, 4, 1, 5, 9, 2, 6, 5)\n",
      "[1, 6, 1, 8]\n",
      "O primeiro vale: 1 e o ultimo vale: 11\n"
     ]
    }
   ],
   "source": [
    "# Uma tupla é uma coleção de objetos que lembra muito as listas.\n",
    "\n",
    "# Ao invés de colchetes, usamos parênteses para declarar as tuplas:\n",
    "numeros = (1,2,3,5,7,11)\n",
    "\n",
    "# Podemos declarar sem parênteses também:\n",
    "numeros = 1,2,3,5,7,11\n",
    "\n",
    "# Para acessar um valor, utilizamos a mesma sintaxe das listas:\n",
    "print(numeros[4])\n",
    "print(type(numeros))\n",
    "\n",
    "'''\n",
    "Porém, tuplas são imutáveis: não é possível adicionar ou modificar valores.\n",
    "Descomentar a linha abaixo provocará erro de execução:\n",
    "'''\n",
    "# numeros[4] = 8\n",
    "\n",
    "# Podemos gerar uma tupla a partir de uma lista...\n",
    "lista1 = [3, 1, 4, 1, 5, 9, 2, 6, 5]\n",
    "tupla1 = tuple(lista1)\n",
    "print(tupla1)\n",
    "\n",
    "# ...ou uma lista a partir de uma tupla:\n",
    "tupla2 = [1, 6, 1, 8]\n",
    "lista2 = list(tupla2)\n",
    "print(lista2)\n",
    "\n",
    "# Também pode-se usar o unpacking com uma tupla:\n",
    "a, b, c, d, e, f = numeros # \"desempacota\" a tupla numeros\n",
    "print(\"O primeiro vale:\", a, \"e o ultimo vale:\", f)\n"
   ]
  },
  {
   "cell_type": "code",
   "execution_count": null,
   "id": "8da198d1",
   "metadata": {},
   "outputs": [],
   "source": []
  }
 ],
 "metadata": {
  "kernelspec": {
   "display_name": "Python 3",
   "language": "python",
   "name": "python3"
  },
  "language_info": {
   "codemirror_mode": {
    "name": "ipython",
    "version": 3
   },
   "file_extension": ".py",
   "mimetype": "text/x-python",
   "name": "python",
   "nbconvert_exporter": "python",
   "pygments_lexer": "ipython3",
   "version": "3.8.8"
  }
 },
 "nbformat": 4,
 "nbformat_minor": 5
}
